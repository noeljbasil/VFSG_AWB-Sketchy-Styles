{
 "cells": [
  {
   "cell_type": "code",
   "execution_count": 1,
   "metadata": {},
   "outputs": [],
   "source": [
    "#importing libraries\n",
    "import pandas as pd\n",
    "import numpy as np\n",
    "import matplotlib as mlt\n",
    "import matplotlib.pyplot as plt\n",
    "import os\n",
    "\n",
    "\n",
    "pd.set_option('display.max_colwidth',None) #removing fixed column width to bypass trunctation of contents\n",
    "pd.set_option('display.max_rows', None) #removing the restrictions on number of rows displayed"
   ]
  },
  {
   "cell_type": "code",
   "execution_count": 2,
   "metadata": {},
   "outputs": [],
   "source": [
    "#Setting paths to be used\n",
    "\n",
    "os.chdir('D:/#Viz for social good/Academics without Borders/') \n",
    "data = os.path.join(\"Data\",\"AWB Data Viz for Social Good Final.xlsx\")\n",
    "out_data = os.path.join(\"OutData\")\n",
    "out_Img = os.path.join(\"OutImg\")"
   ]
  },
  {
   "cell_type": "code",
   "execution_count": 8,
   "metadata": {},
   "outputs": [],
   "source": [
    "#creating the required dataframe for viz\n",
    "\n",
    "data=pd.DataFrame({\"Donation Funded\":5638,\"Host Uni contributions\":1301,\"Value of In kind volunteer time\":27707},index=[0])"
   ]
  },
  {
   "cell_type": "code",
   "execution_count": 23,
   "metadata": {
    "scrolled": true
   },
   "outputs": [
    {
     "data": {
      "image/png": "[encoded data removed]",
      "text/plain": [
       "<Figure size 576x72 with 1 Axes>"
      ]
     },
     "metadata": {
      "needs_background": "light"
     },
     "output_type": "display_data"
    }
   ],
   "source": [
    "%matplotlib inline\n",
    "data.plot(kind='barh',stacked=True,legend=None,figsize=(8,1))\n",
    "plt.axis('off')\n",
    "os.chdir(out_Img)\n",
    "plt.savefig('Pricing.svg')"
   ]
  },
  {
   "cell_type": "code",
   "execution_count": null,
   "metadata": {},
   "outputs": [],
   "source": []
  }
 ],
 "metadata": {
  "kernelspec": {
   "display_name": "Python 3",
   "language": "python",
   "name": "python3"
  },
  "language_info": {
   "codemirror_mode": {
    "name": "ipython",
    "version": 3
   },
   "file_extension": ".py",
   "mimetype": "text/x-python",
   "name": "python",
   "nbconvert_exporter": "python",
   "pygments_lexer": "ipython3",
   "version": "3.7.6"
  }
 },
 "nbformat": 4,
 "nbformat_minor": 4
}
