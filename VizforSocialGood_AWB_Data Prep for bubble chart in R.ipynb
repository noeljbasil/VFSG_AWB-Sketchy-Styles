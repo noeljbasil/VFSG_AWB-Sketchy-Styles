{
 "cells": [
  {
   "cell_type": "code",
   "execution_count": null,
   "metadata": {},
   "outputs": [],
   "source": [
    "#importing libraries\n",
    "import pandas as pd\n",
    "import numpy as np\n",
    "import matplotlib as mlt\n",
    "import matplotlib.pyplot as plt\n",
    "import os\n",
    "\n",
    "\n",
    "pd.set_option('display.max_colwidth',None) #removing fixed column width to bypass trunctation of contents\n",
    "pd.set_option('display.max_rows', None) #removing the restrictions on number of rows displayed"
   ]
  },
  {
   "cell_type": "code",
   "execution_count": null,
   "metadata": {},
   "outputs": [],
   "source": [
    "#Setting paths to be used\n",
    "\n",
    "os.chdir('D:/#Viz for social good/Academics without Borders/') \n",
    "data = os.path.join(\"Data\",\"AWB Data Viz for Social Good Final.xlsx\")\n",
    "out_data = os.path.join(\"OutData\")\n",
    "out_Img = os.path.join(\"OutImg\")"
   ]
  },
  {
   "cell_type": "code",
   "execution_count": null,
   "metadata": {},
   "outputs": [],
   "source": [
    "#Saving sheet as a data frame\n",
    "\n",
    "AWB_Prjcts= pd.read_excel(data,sheet_name='AWB Projects')"
   ]
  },
  {
   "cell_type": "code",
   "execution_count": null,
   "metadata": {},
   "outputs": [],
   "source": [
    "#To get the number of combinations -- neat trick! Keeping as reference to be used in future projects\n",
    "\n",
    "prjcts_loc = AWB_Prjcts.loc[:,['Country','HDI Value (2018)']].groupby(['Country','HDI Value (2018)']).size().reset_index().rename(columns={0:'count'}).sort_values(by=['count'])"
   ]
  },
  {
   "cell_type": "code",
   "execution_count": null,
   "metadata": {},
   "outputs": [],
   "source": [
    "#Grouping and taking count for each of the categories. This aggregated data will then serve as input to R script which will create the bubble chart svgs\n",
    "\n",
    "vol_count= pd.DataFrame(AWB_Prjcts.groupby('Volunteering Institution 1')['Project Title'].count().reset_index().rename(columns={'Project Title':'value'}))\n",
    "cntry_count= pd.DataFrame(AWB_Prjcts.groupby('Country')['Project Title'].count().reset_index().rename(columns={'Project Title':'value'}))\n",
    "disp_count= pd.DataFrame(AWB_Prjcts.groupby('Specific Discipline')['Project Title'].count().reset_index().rename(columns={'Project Title':'value'}))\n",
    "part_count= pd.DataFrame(AWB_Prjcts.groupby('Partner Institution')['Project Title'].count().reset_index().rename(columns={'Project Title':'value'}))\n",
    "\n",
    "vol_count.to_csv('vol.csv',index=False)\n",
    "cntry_count.to_csv('cntry.csv',index=False)\n",
    "disp_count.to_csv('disp.csv',index=False)\n",
    "part_count.to_csv('part.csv',index=False)"
   ]
  },
  {
   "cell_type": "code",
   "execution_count": null,
   "metadata": {},
   "outputs": [],
   "source": []
  }
 ],
 "metadata": {
  "kernelspec": {
   "display_name": "Python 3",
   "language": "python",
   "name": "python3"
  },
  "language_info": {
   "codemirror_mode": {
    "name": "ipython",
    "version": 3
   },
   "file_extension": ".py",
   "mimetype": "text/x-python",
   "name": "python",
   "nbconvert_exporter": "python",
   "pygments_lexer": "ipython3",
   "version": "3.7.6"
  }
 },
 "nbformat": 4,
 "nbformat_minor": 4
}
